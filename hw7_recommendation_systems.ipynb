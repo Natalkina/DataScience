{
  "nbformat": 4,
  "nbformat_minor": 0,
  "metadata": {
    "colab": {
      "provenance": [],
      "authorship_tag": "ABX9TyNn/Lr3+7DpiKC0kRpvqrFe",
      "include_colab_link": true
    },
    "kernelspec": {
      "name": "python3",
      "display_name": "Python 3"
    },
    "language_info": {
      "name": "python"
    }
  },
  "cells": [
    {
      "cell_type": "markdown",
      "metadata": {
        "id": "view-in-github",
        "colab_type": "text"
      },
      "source": [
        "<a href=\"https://colab.research.google.com/github/Natalkina/DataScience/blob/main/hw7_recommendation_systems.ipynb\" target=\"_parent\"><img src=\"https://colab.research.google.com/assets/colab-badge.svg\" alt=\"Open In Colab\"/></a>"
      ]
    },
    {
      "cell_type": "code",
      "source": [
        "pip install surprise"
      ],
      "metadata": {
        "colab": {
          "base_uri": "https://localhost:8080/"
        },
        "id": "K1-45Nub3AxK",
        "outputId": "dec4a344-a477-4e8b-afad-702b5dfd4cd3"
      },
      "execution_count": 2,
      "outputs": [
        {
          "output_type": "stream",
          "name": "stdout",
          "text": [
            "Collecting surprise\n",
            "  Downloading surprise-0.1-py2.py3-none-any.whl (1.8 kB)\n",
            "Collecting scikit-surprise (from surprise)\n",
            "  Downloading scikit-surprise-1.1.3.tar.gz (771 kB)\n",
            "\u001b[2K     \u001b[90m━━━━━━━━━━━━━━━━━━━━━━━━━━━━━━━━━━━━━━━\u001b[0m \u001b[32m772.0/772.0 kB\u001b[0m \u001b[31m5.7 MB/s\u001b[0m eta \u001b[36m0:00:00\u001b[0m\n",
            "\u001b[?25h  Preparing metadata (setup.py) ... \u001b[?25l\u001b[?25hdone\n",
            "Requirement already satisfied: joblib>=1.0.0 in /usr/local/lib/python3.10/dist-packages (from scikit-surprise->surprise) (1.3.2)\n",
            "Requirement already satisfied: numpy>=1.17.3 in /usr/local/lib/python3.10/dist-packages (from scikit-surprise->surprise) (1.23.5)\n",
            "Requirement already satisfied: scipy>=1.3.2 in /usr/local/lib/python3.10/dist-packages (from scikit-surprise->surprise) (1.10.1)\n",
            "Building wheels for collected packages: scikit-surprise\n",
            "  Building wheel for scikit-surprise (setup.py) ... \u001b[?25l\u001b[?25hdone\n",
            "  Created wheel for scikit-surprise: filename=scikit_surprise-1.1.3-cp310-cp310-linux_x86_64.whl size=2811598 sha256=0cc678292eddc14365e9bebb67181860d95e3e31a39813252a78ce9f924a3576\n",
            "  Stored in directory: /root/.cache/pip/wheels/a5/ca/a8/4e28def53797fdc4363ca4af740db15a9c2f1595ebc51fb445\n",
            "Successfully built scikit-surprise\n",
            "Installing collected packages: scikit-surprise, surprise\n",
            "Successfully installed scikit-surprise-1.1.3 surprise-0.1\n"
          ]
        }
      ]
    },
    {
      "cell_type": "code",
      "source": [
        "import numpy as np\n",
        "import pandas as pd\n",
        "from surprise import Dataset, Reader\n",
        "from surprise import SVD, SVDpp, NMF\n",
        "from surprise.model_selection import train_test_split\n",
        "from surprise import accuracy\n",
        "from surprise.model_selection import cross_validate"
      ],
      "metadata": {
        "id": "w6eGN8VT3swY"
      },
      "execution_count": 8,
      "outputs": []
    },
    {
      "cell_type": "code",
      "source": [
        "data = Dataset.load_builtin('ml-100k')\n",
        "data"
      ],
      "metadata": {
        "colab": {
          "base_uri": "https://localhost:8080/"
        },
        "id": "o4EgEYMD4Zep",
        "outputId": "67322152-2629-4954-f70a-e996a6151dbf"
      },
      "execution_count": 9,
      "outputs": [
        {
          "output_type": "execute_result",
          "data": {
            "text/plain": [
              "<surprise.dataset.DatasetAutoFolds at 0x7dcf1a9aa1a0>"
            ]
          },
          "metadata": {},
          "execution_count": 9
        }
      ]
    },
    {
      "cell_type": "code",
      "source": [
        "from numpy.core.fromnumeric import mean\n",
        "# Cross validation for SVD algorithm.\n",
        "algo = SVD()\n",
        "cv_results = cross_validate(algo, data, measures=[\"RMSE\", \"MAE\"], cv=5, verbose=True)\n",
        "svd_RMSE_mean = round(cv_results['test_rmse'].mean(), 4)\n",
        "svd_MAE_mean = round(cv_results['test_mae'].mean(), 4)\n",
        "svd_fit_time_mean = round(np.mean(cv_results['fit_time']), 4)\n",
        "svd_test_time_mean = round(np.mean(cv_results['test_time']), 4)\n",
        "print(f\"Mean values for SVD: RMSE {svd_RMSE_mean}, MAE {svd_MAE_mean}\")\n",
        "print(f\"Mean values for time: Fit time {svd_fit_time_mean}, Test time {svd_test_time_mean}\")"
      ],
      "metadata": {
        "colab": {
          "base_uri": "https://localhost:8080/"
        },
        "id": "3LWuJxd59e69",
        "outputId": "2291c265-ea8e-45e2-c432-1f13c459a5a3"
      },
      "execution_count": 24,
      "outputs": [
        {
          "output_type": "stream",
          "name": "stdout",
          "text": [
            "Evaluating RMSE, MAE of algorithm SVD on 5 split(s).\n",
            "\n",
            "                  Fold 1  Fold 2  Fold 3  Fold 4  Fold 5  Mean    Std     \n",
            "RMSE (testset)    0.9336  0.9373  0.9358  0.9405  0.9350  0.9364  0.0023  \n",
            "MAE (testset)     0.7366  0.7391  0.7363  0.7408  0.7380  0.7382  0.0017  \n",
            "Fit time          1.75    2.02    1.50    1.58    1.70    1.71    0.18    \n",
            "Test time         0.26    0.14    0.29    0.14    0.31    0.23    0.07    \n",
            "Mean values for SVD: RMSE 0.9364, MAE 0.7382\n",
            "Mean values for time: Fit time 1.7119, Test time 0.2258\n"
          ]
        }
      ]
    },
    {
      "cell_type": "code",
      "source": [
        "# Cross validation for SVDpp algorithm.\n",
        "algo_p = SVDpp()\n",
        "svdpp_results = cross_validate(algo_p, data, measures=['RMSE', 'MAE'], cv=5, verbose=True)\n",
        "svdpp_RMSE_mean = round(svdpp_results['test_rmse'].mean(), 4)\n",
        "svdpp_MAE_mean = round(svdpp_results['test_mae'].mean(), 4)\n",
        "svdpp_fit_time_mean = round(np.mean(svdpp_results['fit_time']), 4)\n",
        "svdpp_test_time_mean = round(np.mean(svdpp_results['test_time']), 4)\n",
        "print(f\"Mean values for SVDpp: RMSE {svdpp_RMSE_mean}, MAE {svdpp_MAE_mean}\")\n",
        "print(f\"Mean values for time: Fit time {svdpp_fit_time_mean}, Test time {svdpp_test_time_mean}\")"
      ],
      "metadata": {
        "colab": {
          "base_uri": "https://localhost:8080/"
        },
        "id": "nsHYOGQt_cQZ",
        "outputId": "8cd475b9-b0c5-4c55-e5e1-4f6352004221"
      },
      "execution_count": 23,
      "outputs": [
        {
          "output_type": "stream",
          "name": "stdout",
          "text": [
            "Evaluating RMSE, MAE of algorithm SVDpp on 5 split(s).\n",
            "\n",
            "                  Fold 1  Fold 2  Fold 3  Fold 4  Fold 5  Mean    Std     \n",
            "RMSE (testset)    0.9195  0.9235  0.9194  0.9236  0.9155  0.9203  0.0030  \n",
            "MAE (testset)     0.7214  0.7251  0.7204  0.7235  0.7188  0.7218  0.0022  \n",
            "Fit time          28.34   34.80   28.25   27.21   27.47   29.22   2.83    \n",
            "Test time         5.31    5.12    5.51    5.31    5.24    5.30    0.13    \n",
            "Mean values for SVDpp: RMSE 0.9203, MAE 0.7218\n",
            "Mean values for time: Fit time 29.2152, Test time 5.3006\n"
          ]
        }
      ]
    },
    {
      "cell_type": "code",
      "source": [
        "# Cross validation for NMF algorithm.\n",
        "algo_n = NMF()\n",
        "nmf_results = cross_validate(algo_n, data, measures=['RMSE', 'MAE'], cv=5, verbose=True)\n",
        "nmf_RMSE_mean = round(nmf_results['test_rmse'].mean(), 4)\n",
        "nmf_MAE_mean = round(nmf_results['test_mae'].mean(), 4)\n",
        "nmf_fit_time_mean = round(np.mean(nmf_results['fit_time']), 4)\n",
        "nmf_test_time_mean = round(np.mean(nmf_results['test_time']), 4)\n",
        "print(f\"Mean values for NMF: RMSE {nmf_RMSE_mean}, MAE {nmf_MAE_mean}\")\n",
        "print(f\"Mean values for time: Fit time {nmf_fit_time_mean}, Test time {nmf_test_time_mean}\")"
      ],
      "metadata": {
        "colab": {
          "base_uri": "https://localhost:8080/"
        },
        "id": "rBud7VVtVm_D",
        "outputId": "6eeafe8b-dd48-4a75-922a-0a5699f8bf4e"
      },
      "execution_count": 26,
      "outputs": [
        {
          "output_type": "stream",
          "name": "stdout",
          "text": [
            "Evaluating RMSE, MAE of algorithm NMF on 5 split(s).\n",
            "\n",
            "                  Fold 1  Fold 2  Fold 3  Fold 4  Fold 5  Mean    Std     \n",
            "RMSE (testset)    0.9591  0.9623  0.9615  0.9728  0.9605  0.9632  0.0049  \n",
            "MAE (testset)     0.7529  0.7550  0.7548  0.7616  0.7569  0.7562  0.0029  \n",
            "Fit time          3.48    2.92    2.53    3.42    2.77    3.02    0.37    \n",
            "Test time         0.20    0.33    0.12    0.29    0.12    0.21    0.09    \n",
            "Mean values for NMF: RMSE 0.9632, MAE 0.7562\n",
            "Mean values for time: Fit time 3.0244, Test time 0.2104\n"
          ]
        }
      ]
    },
    {
      "cell_type": "code",
      "source": [
        "# Grafical explementation\n",
        "import matplotlib.pyplot as plt\n",
        "\n",
        "methods = ['svdpp', 'svd', 'nmf']\n",
        "rmse_means = [svdpp_RMSE_mean, svd_RMSE_mean, nmf_RMSE_mean]\n",
        "mae_means = [svdpp_MAE_mean, svd_MAE_mean, nmf_MAE_mean]\n",
        "fit_time_means = [svdpp_fit_time_mean, svd_fit_time_mean, nmf_fit_time_mean]\n",
        "test_time_means = [svdpp_test_time_mean, svd_test_time_mean, nmf_test_time_mean]\n",
        "fig, axs = plt.subplots(2, 2, figsize=(10, 8))\n",
        "axs[0, 0].bar(methods, rmse_means)\n",
        "axs[0, 0].set_title('RMSE Means')\n",
        "axs[0, 0].set_ylim(0.6, 1.0)\n",
        "\n",
        "axs[0, 1].bar(methods, mae_means)\n",
        "axs[0, 1].set_title('MAE Means')\n",
        "axs[0, 0].set_ylim(0.6, 1.0)\n",
        "\n",
        "axs[1, 0].bar(methods, fit_time_means)\n",
        "axs[1, 0].set_title('Fit Time Means')\n",
        "\n",
        "axs[1, 1].bar(methods, test_time_means)\n",
        "axs[1, 1].set_title('Test Time Means')\n",
        "\n",
        "plt.tight_layout()\n",
        "plt.show()\n"
      ],
      "metadata": {
        "colab": {
          "base_uri": "https://localhost:8080/",
          "height": 807
        },
        "id": "wsUQUBCgad7L",
        "outputId": "3f9c28ec-dfce-41e5-dc1c-1c599066e918"
      },
      "execution_count": 29,
      "outputs": [
        {
          "output_type": "display_data",
          "data": {
            "text/plain": [
              "<Figure size 1000x800 with 4 Axes>"
            ],
            "image/png": "[encoded data removed]"
          },
          "metadata": {}
        }
      ]
    },
    {
      "cell_type": "markdown",
      "source": [
        "Таким чином найнижчу помилку має метод SVDpp, а найвищу - NMF,  в той же час, SVDpp потребує найбільше часу, тому оптимальним варіантом є метод SVD"
      ],
      "metadata": {
        "id": "qJedLcCKcNnk"
      }
    }
  ]
}