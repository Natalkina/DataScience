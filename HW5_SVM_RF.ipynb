{
  "cells": [
    {
      "cell_type": "markdown",
      "metadata": {
        "id": "view-in-github",
        "colab_type": "text"
      },
      "source": [
        "<a href=\"https://colab.research.google.com/github/Natalkina/DataScience/blob/main/HW5_SVM_RF.ipynb\" target=\"_parent\"><img src=\"https://colab.research.google.com/assets/colab-badge.svg\" alt=\"Open In Colab\"/></a>"
      ]
    },
    {
      "cell_type": "code",
      "execution_count": 9,
      "metadata": {
        "colab": {
          "base_uri": "https://localhost:8080/"
        },
        "id": "pCamq7oPEMic",
        "outputId": "bb7f7dcf-e008-494a-a5b9-01c64510ca28"
      },
      "outputs": [
        {
          "output_type": "stream",
          "name": "stdout",
          "text": [
            "Mounted at /content/drive\n"
          ]
        }
      ],
      "source": [
        "import pandas as pd\n",
        "import zipfile\n",
        "from google.colab import drive\n",
        "import os\n",
        "\n",
        "\n",
        "drive.mount('/content/drive', force_remount=True)\n",
        "\n",
        "zip_path = '/content/drive/MyDrive/GOIT/data_hw5.zip'\n",
        "extracted_path = '/content/extracted_data'\n",
        "\n",
        "with zipfile.ZipFile(zip_path, 'r') as zip_ref:\n",
        "    zip_ref.extractall(extracted_path)\n"
      ]
    },
    {
      "cell_type": "code",
      "source": [
        "def def_dataframe_stat(csv_path):\n",
        "    df = pd.read_csv(csv_path)\n",
        "    stats = df.agg(['min', 'max', 'mean', 'std']).stack()\n",
        "    stats.index = [f\"{col}_{stat}\" for col, stat in stats.index]\n",
        "    return stats.to_frame().T\n",
        "activity_folders = ['walking', 'idle', 'running', 'stairs']\n",
        "combined_dfs = []\n",
        "\n",
        "for activity in activity_folders:\n",
        "    folder_path = f'extracted_data/data/{activity}'\n",
        "    csv_paths = [os.path.join(folder_path, file) for file in os.listdir(folder_path) if file.endswith('.csv')]\n",
        "    dfs = []\n",
        "\n",
        "    for csv_path in csv_paths:\n",
        "        result_df = def_dataframe_stat(csv_path)\n",
        "        dfs.append(result_df)\n",
        "\n",
        "    combined_df = pd.concat(dfs, axis=0, ignore_index=True)\n",
        "    combined_df['activity'] = activity\n",
        "    combined_dfs.append(combined_df)\n",
        "final_combined_df = pd.concat(combined_dfs, axis=0, ignore_index=True)\n",
        "\n",
        "final_combined_df.head(10)"
      ],
      "metadata": {
        "colab": {
          "base_uri": "https://localhost:8080/",
          "height": 427
        },
        "id": "FSi_QYf5zdb7",
        "outputId": "42112efc-f1f5-4875-aac0-55c4446e5c60"
      },
      "execution_count": 37,
      "outputs": [
        {
          "output_type": "execute_result",
          "data": {
            "text/plain": [
              "   min_accelerometer_X  min_accelerometer_Y  min_accelerometer_Z  \\\n",
              "0            -7.445967           -28.495789           -26.532543   \n",
              "1           -16.333244           -21.356280           -16.127342   \n",
              "2            -9.801862           -16.251840           -10.271125   \n",
              "3           -14.537593           -20.254946           -19.546263   \n",
              "4           -14.844050           -17.506401           -19.129671   \n",
              "5            -9.849746           -17.094600            -6.574477   \n",
              "6           -13.268666           -19.139248           -19.182344   \n",
              "7            -7.101202           -19.359514            -8.772355   \n",
              "8           -11.650186           -26.695349           -11.650186   \n",
              "9           -11.755530           -19.378668           -19.038692   \n",
              "\n",
              "   max_accelerometer_X  max_accelerometer_Y  max_accelerometer_Z  \\\n",
              "0             7.546524             5.272033             9.107543   \n",
              "1             0.766145             4.783615            18.679562   \n",
              "2             1.982399            -2.461239            23.467964   \n",
              "3             3.323152             6.191406            32.331300   \n",
              "4             4.223372             0.842759            20.135237   \n",
              "5             0.727837             6.713342            11.128249   \n",
              "6             1.350330             6.502652             5.147534   \n",
              "7             6.727707            13.891158            12.344504   \n",
              "8             2.312799             0.234632            12.411542   \n",
              "9            16.132132            -3.907337            26.743233   \n",
              "\n",
              "   mean_accelerometer_X  mean_accelerometer_Y  mean_accelerometer_Z  \\\n",
              "0              0.236388             -9.757968             -0.525607   \n",
              "1             -4.333026             -9.368032             -2.459005   \n",
              "2             -3.638708             -9.450872             -0.654255   \n",
              "3             -3.713726             -9.123983             -1.981920   \n",
              "4             -3.934152             -9.681034             -1.664928   \n",
              "5             -3.260264             -7.202397             -0.472456   \n",
              "6             -4.022578             -9.266678             -2.618459   \n",
              "7              0.781627             -8.497022             -1.670833   \n",
              "8             -2.935930            -11.292172             -1.205720   \n",
              "9              2.473210            -11.117396              0.075976   \n",
              "\n",
              "   std_accelerometer_X  std_accelerometer_Y  std_accelerometer_Z activity  \n",
              "0             4.062555             6.647374             6.781240  walking  \n",
              "1             4.449873             5.534510             6.185075  walking  \n",
              "2             3.134902             3.857840             5.816441  walking  \n",
              "3             5.000350             6.332666             8.938634  walking  \n",
              "4             3.972373             4.990199             6.443429  walking  \n",
              "5             2.473124             6.371377             3.392147  walking  \n",
              "6             3.923001             5.873142             5.076592  walking  \n",
              "7             3.490640             6.436539             4.574111  walking  \n",
              "8             3.487147             6.614729             5.170200  walking  \n",
              "9             5.295236             5.014467             8.091427  walking  "
            ],
            "text/html": [
              "\n",
              "\n",
              "  <div id=\"df-610739ca-f6ec-4f65-9f58-0b4c1fa2d668\">\n",
              "    <div class=\"colab-df-container\">\n",
              "      <div>\n",
              "<style scoped>\n",
              "    .dataframe tbody tr th:only-of-type {\n",
              "        vertical-align: middle;\n",
              "    }\n",
              "\n",
              "    .dataframe tbody tr th {\n",
              "        vertical-align: top;\n",
              "    }\n",
              "\n",
              "    .dataframe thead th {\n",
              "        text-align: right;\n",
              "    }\n",
              "</style>\n",
              "<table border=\"1\" class=\"dataframe\">\n",
              "  <thead>\n",
              "    <tr style=\"text-align: right;\">\n",
              "      <th></th>\n",
              "      <th>min_accelerometer_X</th>\n",
              "      <th>min_accelerometer_Y</th>\n",
              "      <th>min_accelerometer_Z</th>\n",
              "      <th>max_accelerometer_X</th>\n",
              "      <th>max_accelerometer_Y</th>\n",
              "      <th>max_accelerometer_Z</th>\n",
              "      <th>mean_accelerometer_X</th>\n",
              "      <th>mean_accelerometer_Y</th>\n",
              "      <th>mean_accelerometer_Z</th>\n",
              "      <th>std_accelerometer_X</th>\n",
              "      <th>std_accelerometer_Y</th>\n",
              "      <th>std_accelerometer_Z</th>\n",
              "      <th>activity</th>\n",
              "    </tr>\n",
              "  </thead>\n",
              "  <tbody>\n",
              "    <tr>\n",
              "      <th>0</th>\n",
              "      <td>-7.445967</td>\n",
              "      <td>-28.495789</td>\n",
              "      <td>-26.532543</td>\n",
              "      <td>7.546524</td>\n",
              "      <td>5.272033</td>\n",
              "      <td>9.107543</td>\n",
              "      <td>0.236388</td>\n",
              "      <td>-9.757968</td>\n",
              "      <td>-0.525607</td>\n",
              "      <td>4.062555</td>\n",
              "      <td>6.647374</td>\n",
              "      <td>6.781240</td>\n",
              "      <td>walking</td>\n",
              "    </tr>\n",
              "    <tr>\n",
              "      <th>1</th>\n",
              "      <td>-16.333244</td>\n",
              "      <td>-21.356280</td>\n",
              "      <td>-16.127342</td>\n",
              "      <td>0.766145</td>\n",
              "      <td>4.783615</td>\n",
              "      <td>18.679562</td>\n",
              "      <td>-4.333026</td>\n",
              "      <td>-9.368032</td>\n",
              "      <td>-2.459005</td>\n",
              "      <td>4.449873</td>\n",
              "      <td>5.534510</td>\n",
              "      <td>6.185075</td>\n",
              "      <td>walking</td>\n",
              "    </tr>\n",
              "    <tr>\n",
              "      <th>2</th>\n",
              "      <td>-9.801862</td>\n",
              "      <td>-16.251840</td>\n",
              "      <td>-10.271125</td>\n",
              "      <td>1.982399</td>\n",
              "      <td>-2.461239</td>\n",
              "      <td>23.467964</td>\n",
              "      <td>-3.638708</td>\n",
              "      <td>-9.450872</td>\n",
              "      <td>-0.654255</td>\n",
              "      <td>3.134902</td>\n",
              "      <td>3.857840</td>\n",
              "      <td>5.816441</td>\n",
              "      <td>walking</td>\n",
              "    </tr>\n",
              "    <tr>\n",
              "      <th>3</th>\n",
              "      <td>-14.537593</td>\n",
              "      <td>-20.254946</td>\n",
              "      <td>-19.546263</td>\n",
              "      <td>3.323152</td>\n",
              "      <td>6.191406</td>\n",
              "      <td>32.331300</td>\n",
              "      <td>-3.713726</td>\n",
              "      <td>-9.123983</td>\n",
              "      <td>-1.981920</td>\n",
              "      <td>5.000350</td>\n",
              "      <td>6.332666</td>\n",
              "      <td>8.938634</td>\n",
              "      <td>walking</td>\n",
              "    </tr>\n",
              "    <tr>\n",
              "      <th>4</th>\n",
              "      <td>-14.844050</td>\n",
              "      <td>-17.506401</td>\n",
              "      <td>-19.129671</td>\n",
              "      <td>4.223372</td>\n",
              "      <td>0.842759</td>\n",
              "      <td>20.135237</td>\n",
              "      <td>-3.934152</td>\n",
              "      <td>-9.681034</td>\n",
              "      <td>-1.664928</td>\n",
              "      <td>3.972373</td>\n",
              "      <td>4.990199</td>\n",
              "      <td>6.443429</td>\n",
              "      <td>walking</td>\n",
              "    </tr>\n",
              "    <tr>\n",
              "      <th>5</th>\n",
              "      <td>-9.849746</td>\n",
              "      <td>-17.094600</td>\n",
              "      <td>-6.574477</td>\n",
              "      <td>0.727837</td>\n",
              "      <td>6.713342</td>\n",
              "      <td>11.128249</td>\n",
              "      <td>-3.260264</td>\n",
              "      <td>-7.202397</td>\n",
              "      <td>-0.472456</td>\n",
              "      <td>2.473124</td>\n",
              "      <td>6.371377</td>\n",
              "      <td>3.392147</td>\n",
              "      <td>walking</td>\n",
              "    </tr>\n",
              "    <tr>\n",
              "      <th>6</th>\n",
              "      <td>-13.268666</td>\n",
              "      <td>-19.139248</td>\n",
              "      <td>-19.182344</td>\n",
              "      <td>1.350330</td>\n",
              "      <td>6.502652</td>\n",
              "      <td>5.147534</td>\n",
              "      <td>-4.022578</td>\n",
              "      <td>-9.266678</td>\n",
              "      <td>-2.618459</td>\n",
              "      <td>3.923001</td>\n",
              "      <td>5.873142</td>\n",
              "      <td>5.076592</td>\n",
              "      <td>walking</td>\n",
              "    </tr>\n",
              "    <tr>\n",
              "      <th>7</th>\n",
              "      <td>-7.101202</td>\n",
              "      <td>-19.359514</td>\n",
              "      <td>-8.772355</td>\n",
              "      <td>6.727707</td>\n",
              "      <td>13.891158</td>\n",
              "      <td>12.344504</td>\n",
              "      <td>0.781627</td>\n",
              "      <td>-8.497022</td>\n",
              "      <td>-1.670833</td>\n",
              "      <td>3.490640</td>\n",
              "      <td>6.436539</td>\n",
              "      <td>4.574111</td>\n",
              "      <td>walking</td>\n",
              "    </tr>\n",
              "    <tr>\n",
              "      <th>8</th>\n",
              "      <td>-11.650186</td>\n",
              "      <td>-26.695349</td>\n",
              "      <td>-11.650186</td>\n",
              "      <td>2.312799</td>\n",
              "      <td>0.234632</td>\n",
              "      <td>12.411542</td>\n",
              "      <td>-2.935930</td>\n",
              "      <td>-11.292172</td>\n",
              "      <td>-1.205720</td>\n",
              "      <td>3.487147</td>\n",
              "      <td>6.614729</td>\n",
              "      <td>5.170200</td>\n",
              "      <td>walking</td>\n",
              "    </tr>\n",
              "    <tr>\n",
              "      <th>9</th>\n",
              "      <td>-11.755530</td>\n",
              "      <td>-19.378668</td>\n",
              "      <td>-19.038692</td>\n",
              "      <td>16.132132</td>\n",
              "      <td>-3.907337</td>\n",
              "      <td>26.743233</td>\n",
              "      <td>2.473210</td>\n",
              "      <td>-11.117396</td>\n",
              "      <td>0.075976</td>\n",
              "      <td>5.295236</td>\n",
              "      <td>5.014467</td>\n",
              "      <td>8.091427</td>\n",
              "      <td>walking</td>\n",
              "    </tr>\n",
              "  </tbody>\n",
              "</table>\n",
              "</div>\n",
              "      <button class=\"colab-df-convert\" onclick=\"convertToInteractive('df-610739ca-f6ec-4f65-9f58-0b4c1fa2d668')\"\n",
              "              title=\"Convert this dataframe to an interactive table.\"\n",
              "              style=\"display:none;\">\n",
              "\n",
              "  <svg xmlns=\"http://www.w3.org/2000/svg\" height=\"24px\"viewBox=\"0 0 24 24\"\n",
              "       width=\"24px\">\n",
              "    <path d=\"M0 0h24v24H0V0z\" fill=\"none\"/>\n",
              "    <path d=\"M18.56 5.44l.94 2.06.94-2.06 2.06-.94-2.06-.94-.94-2.06-.94 2.06-2.06.94zm-11 1L8.5 8.5l.94-2.06 2.06-.94-2.06-.94L8.5 2.5l-.94 2.06-2.06.94zm10 10l.94 2.06.94-2.06 2.06-.94-2.06-.94-.94-2.06-.94 2.06-2.06.94z\"/><path d=\"M17.41 7.96l-1.37-1.37c-.4-.4-.92-.59-1.43-.59-.52 0-1.04.2-1.43.59L10.3 9.45l-7.72 7.72c-.78.78-.78 2.05 0 2.83L4 21.41c.39.39.9.59 1.41.59.51 0 1.02-.2 1.41-.59l7.78-7.78 2.81-2.81c.8-.78.8-2.07 0-2.86zM5.41 20L4 18.59l7.72-7.72 1.47 1.35L5.41 20z\"/>\n",
              "  </svg>\n",
              "      </button>\n",
              "\n",
              "\n",
              "\n",
              "    <div id=\"df-8f82474e-d848-43b6-a1bd-2a38acecb390\">\n",
              "      <button class=\"colab-df-quickchart\" onclick=\"quickchart('df-8f82474e-d848-43b6-a1bd-2a38acecb390')\"\n",
              "              title=\"Suggest charts.\"\n",
              "              style=\"display:none;\">\n",
              "\n",
              "<svg xmlns=\"http://www.w3.org/2000/svg\" height=\"24px\"viewBox=\"0 0 24 24\"\n",
              "     width=\"24px\">\n",
              "    <g>\n",
              "        <path d=\"M19 3H5c-1.1 0-2 .9-2 2v14c0 1.1.9 2 2 2h14c1.1 0 2-.9 2-2V5c0-1.1-.9-2-2-2zM9 17H7v-7h2v7zm4 0h-2V7h2v10zm4 0h-2v-4h2v4z\"/>\n",
              "    </g>\n",
              "</svg>\n",
              "      </button>\n",
              "    </div>\n",
              "\n",
              "<style>\n",
              "  .colab-df-quickchart {\n",
              "    background-color: #E8F0FE;\n",
              "    border: none;\n",
              "    border-radius: 50%;\n",
              "    cursor: pointer;\n",
              "    display: none;\n",
              "    fill: #1967D2;\n",
              "    height: 32px;\n",
              "    padding: 0 0 0 0;\n",
              "    width: 32px;\n",
              "  }\n",
              "\n",
              "  .colab-df-quickchart:hover {\n",
              "    background-color: #E2EBFA;\n",
              "    box-shadow: 0px 1px 2px rgba(60, 64, 67, 0.3), 0px 1px 3px 1px rgba(60, 64, 67, 0.15);\n",
              "    fill: #174EA6;\n",
              "  }\n",
              "\n",
              "  [theme=dark] .colab-df-quickchart {\n",
              "    background-color: #3B4455;\n",
              "    fill: #D2E3FC;\n",
              "  }\n",
              "\n",
              "  [theme=dark] .colab-df-quickchart:hover {\n",
              "    background-color: #434B5C;\n",
              "    box-shadow: 0px 1px 3px 1px rgba(0, 0, 0, 0.15);\n",
              "    filter: drop-shadow(0px 1px 2px rgba(0, 0, 0, 0.3));\n",
              "    fill: #FFFFFF;\n",
              "  }\n",
              "</style>\n",
              "\n",
              "    <script>\n",
              "      async function quickchart(key) {\n",
              "        const containerElement = document.querySelector('#' + key);\n",
              "        const charts = await google.colab.kernel.invokeFunction(\n",
              "            'suggestCharts', [key], {});\n",
              "      }\n",
              "    </script>\n",
              "\n",
              "      <script>\n",
              "\n",
              "function displayQuickchartButton(domScope) {\n",
              "  let quickchartButtonEl =\n",
              "    domScope.querySelector('#df-8f82474e-d848-43b6-a1bd-2a38acecb390 button.colab-df-quickchart');\n",
              "  quickchartButtonEl.style.display =\n",
              "    google.colab.kernel.accessAllowed ? 'block' : 'none';\n",
              "}\n",
              "\n",
              "        displayQuickchartButton(document);\n",
              "      </script>\n",
              "      <style>\n",
              "    .colab-df-container {\n",
              "      display:flex;\n",
              "      flex-wrap:wrap;\n",
              "      gap: 12px;\n",
              "    }\n",
              "\n",
              "    .colab-df-convert {\n",
              "      background-color: #E8F0FE;\n",
              "      border: none;\n",
              "      border-radius: 50%;\n",
              "      cursor: pointer;\n",
              "      display: none;\n",
              "      fill: #1967D2;\n",
              "      height: 32px;\n",
              "      padding: 0 0 0 0;\n",
              "      width: 32px;\n",
              "    }\n",
              "\n",
              "    .colab-df-convert:hover {\n",
              "      background-color: #E2EBFA;\n",
              "      box-shadow: 0px 1px 2px rgba(60, 64, 67, 0.3), 0px 1px 3px 1px rgba(60, 64, 67, 0.15);\n",
              "      fill: #174EA6;\n",
              "    }\n",
              "\n",
              "    [theme=dark] .colab-df-convert {\n",
              "      background-color: #3B4455;\n",
              "      fill: #D2E3FC;\n",
              "    }\n",
              "\n",
              "    [theme=dark] .colab-df-convert:hover {\n",
              "      background-color: #434B5C;\n",
              "      box-shadow: 0px 1px 3px 1px rgba(0, 0, 0, 0.15);\n",
              "      filter: drop-shadow(0px 1px 2px rgba(0, 0, 0, 0.3));\n",
              "      fill: #FFFFFF;\n",
              "    }\n",
              "  </style>\n",
              "\n",
              "      <script>\n",
              "        const buttonEl =\n",
              "          document.querySelector('#df-610739ca-f6ec-4f65-9f58-0b4c1fa2d668 button.colab-df-convert');\n",
              "        buttonEl.style.display =\n",
              "          google.colab.kernel.accessAllowed ? 'block' : 'none';\n",
              "\n",
              "        async function convertToInteractive(key) {\n",
              "          const element = document.querySelector('#df-610739ca-f6ec-4f65-9f58-0b4c1fa2d668');\n",
              "          const dataTable =\n",
              "            await google.colab.kernel.invokeFunction('convertToInteractive',\n",
              "                                                     [key], {});\n",
              "          if (!dataTable) return;\n",
              "\n",
              "          const docLinkHtml = 'Like what you see? Visit the ' +\n",
              "            '<a target=\"_blank\" href=https://colab.research.google.com/notebooks/data_table.ipynb>data table notebook</a>'\n",
              "            + ' to learn more about interactive tables.';\n",
              "          element.innerHTML = '';\n",
              "          dataTable['output_type'] = 'display_data';\n",
              "          await google.colab.output.renderOutput(dataTable, element);\n",
              "          const docLink = document.createElement('div');\n",
              "          docLink.innerHTML = docLinkHtml;\n",
              "          element.appendChild(docLink);\n",
              "        }\n",
              "      </script>\n",
              "    </div>\n",
              "  </div>\n"
            ]
          },
          "metadata": {},
          "execution_count": 37
        }
      ]
    },
    {
      "cell_type": "code",
      "source": [
        "final_combined_df.shape"
      ],
      "metadata": {
        "colab": {
          "base_uri": "https://localhost:8080/"
        },
        "id": "S6VW6Mt7BoxS",
        "outputId": "e0f2d143-4c7f-442b-81a7-62bb2ae8a17d"
      },
      "execution_count": 38,
      "outputs": [
        {
          "output_type": "execute_result",
          "data": {
            "text/plain": [
              "(6462, 13)"
            ]
          },
          "metadata": {},
          "execution_count": 38
        }
      ]
    },
    {
      "cell_type": "code",
      "source": [
        "from sklearn.ensemble import RandomForestClassifier\n",
        "from sklearn import svm\n",
        "from sklearn.model_selection import train_test_split, GridSearchCV, RandomizedSearchCV\n",
        "from sklearn.metrics import classification_report"
      ],
      "metadata": {
        "id": "0xnpmwpEDq3j"
      },
      "execution_count": 45,
      "outputs": []
    },
    {
      "cell_type": "code",
      "source": [
        "X = final_combined_df.drop('activity', axis=1)\n",
        "y = final_combined_df['activity']\n",
        "\n",
        "X_train, X_test, y_train, y_test = train_test_split(X, y, test_size=0.2, random_state=0)"
      ],
      "metadata": {
        "id": "wnsYZuWCBtDo"
      },
      "execution_count": 46,
      "outputs": []
    },
    {
      "cell_type": "code",
      "source": [
        "# Using method SVM\n",
        "svm_mod = svm.SVC()\n",
        "svm_mod.fit(X_train, y_train)\n",
        "svm_pred = svm_mod.predict(X_test)\n",
        "print(f\"SVM method result: \\n {classification_report(y_test, svm_pred)}\")"
      ],
      "metadata": {
        "colab": {
          "base_uri": "https://localhost:8080/"
        },
        "id": "ePE76rZnEdUc",
        "outputId": "f40b7429-bc0a-4daa-acc5-0aeeeb785b6f"
      },
      "execution_count": 50,
      "outputs": [
        {
          "output_type": "stream",
          "name": "stdout",
          "text": [
            "SVM method result: \n",
            "               precision    recall  f1-score   support\n",
            "\n",
            "        idle       1.00      1.00      1.00       205\n",
            "     running       1.00      1.00      1.00       700\n",
            "      stairs       0.74      0.61      0.67        28\n",
            "     walking       0.97      0.98      0.98       360\n",
            "\n",
            "    accuracy                           0.99      1293\n",
            "   macro avg       0.93      0.90      0.91      1293\n",
            "weighted avg       0.99      0.99      0.99      1293\n",
            "\n"
          ]
        }
      ]
    },
    {
      "cell_type": "code",
      "source": [
        "# Define best parameters for SVM method\n",
        "param_grid = {\n",
        "    'C': [0.1, 1, 10, 100],\n",
        "    'kernel': ['linear', 'poly', 'rbf', 'sigmoid'],\n",
        "    'gamma': [1, 0.1, 0.01, 0.001],\n",
        "}\n",
        "\n",
        "# Create a SVM Classifier\n",
        "svm_classifier = svm.SVC()\n",
        "\n",
        "# Perform GridSearch to find the best hyperparameters\n",
        "grid_search = GridSearchCV(svm_classifier, param_grid, cv=3, scoring='accuracy')\n",
        "grid_search.fit(X_train, y_train)\n",
        "\n",
        "# Get the best hyperparameters\n",
        "best_params = grid_search.best_params_\n",
        "best_params"
      ],
      "metadata": {
        "colab": {
          "base_uri": "https://localhost:8080/"
        },
        "id": "7XeP9z8XMewO",
        "outputId": "d9711ed0-34fb-44ef-9a24-e3cdc6b40961"
      },
      "execution_count": 55,
      "outputs": [
        {
          "output_type": "execute_result",
          "data": {
            "text/plain": [
              "{'C': 100, 'gamma': 0.01, 'kernel': 'rbf'}"
            ]
          },
          "metadata": {},
          "execution_count": 55
        }
      ]
    },
    {
      "cell_type": "code",
      "source": [
        "# Changing our model according to the best params\n",
        "svm_mod = svm.SVC(C=100, kernel='rbf', gamma=0.01)\n",
        "svm_mod.fit(X_train, y_train)\n",
        "svm_pred = svm_mod.predict(X_test)\n",
        "print(f\"SVM method result after search of best param: \\n {classification_report(y_test, svm_pred)}\")"
      ],
      "metadata": {
        "colab": {
          "base_uri": "https://localhost:8080/"
        },
        "id": "mi6QFVsFOn7k",
        "outputId": "d8c2c24c-2ab6-4a7f-a356-181a9d8e194e"
      },
      "execution_count": 56,
      "outputs": [
        {
          "output_type": "stream",
          "name": "stdout",
          "text": [
            "SVM method result after search of best param: \n",
            "               precision    recall  f1-score   support\n",
            "\n",
            "        idle       1.00      1.00      1.00       205\n",
            "     running       1.00      1.00      1.00       700\n",
            "      stairs       1.00      1.00      1.00        28\n",
            "     walking       1.00      1.00      1.00       360\n",
            "\n",
            "    accuracy                           1.00      1293\n",
            "   macro avg       1.00      1.00      1.00      1293\n",
            "weighted avg       1.00      1.00      1.00      1293\n",
            "\n"
          ]
        }
      ]
    },
    {
      "cell_type": "code",
      "source": [
        "# Using method RF\n",
        "rf_mod = RandomForestClassifier(n_estimators=100, max_depth=10, random_state=0)\n",
        "rf_mod.fit(X_train, y_train)\n",
        "rf_pred = rf_mod.predict(X_test)\n",
        "print(f\"RandomForest method result: \\n {classification_report(y_test, rf_pred)}\")"
      ],
      "metadata": {
        "colab": {
          "base_uri": "https://localhost:8080/"
        },
        "id": "i4wEvC5jKPMx",
        "outputId": "c3ce339c-6f9b-46e7-c8ff-5c1b69fbfba3"
      },
      "execution_count": 52,
      "outputs": [
        {
          "output_type": "stream",
          "name": "stdout",
          "text": [
            "RandomForest method result: \n",
            "               precision    recall  f1-score   support\n",
            "\n",
            "        idle       1.00      1.00      1.00       205\n",
            "     running       1.00      1.00      1.00       700\n",
            "      stairs       1.00      0.93      0.96        28\n",
            "     walking       0.99      1.00      1.00       360\n",
            "\n",
            "    accuracy                           1.00      1293\n",
            "   macro avg       1.00      0.98      0.99      1293\n",
            "weighted avg       1.00      1.00      1.00      1293\n",
            "\n"
          ]
        }
      ]
    },
    {
      "cell_type": "code",
      "source": [
        "# Define best parameters for RandomForest method\n",
        "param_grid = {\n",
        "    'n_estimators': [50, 100, 150, 200],\n",
        "    'max_depth': [None, 5, 10, 15],\n",
        "}\n",
        "\n",
        "# Create a Random Forest Classifier\n",
        "rf_classifier = RandomForestClassifier(random_state=0)\n",
        "\n",
        "# Perform GridSearch to find the best hyperparameters\n",
        "grid_search = GridSearchCV(rf_classifier, param_grid, cv=3, scoring='accuracy')\n",
        "grid_search.fit(X_train, y_train)\n",
        "\n",
        "# Get the best hyperparameters\n",
        "best_params = grid_search.best_params_\n",
        "best_params"
      ],
      "metadata": {
        "colab": {
          "base_uri": "https://localhost:8080/"
        },
        "id": "9mX8_DQ6Lnue",
        "outputId": "3f122daf-1d8f-463a-d542-994918fa574c"
      },
      "execution_count": 54,
      "outputs": [
        {
          "output_type": "execute_result",
          "data": {
            "text/plain": [
              "{'max_depth': None, 'n_estimators': 150}"
            ]
          },
          "metadata": {},
          "execution_count": 54
        }
      ]
    },
    {
      "cell_type": "code",
      "source": [
        "# Changing our model according to the best params\n",
        "rf_mod = RandomForestClassifier(n_estimators=150, random_state=0)\n",
        "rf_mod.fit(X_train, y_train)\n",
        "rf_pred = rf_mod.predict(X_test)\n",
        "print(f\"RandomForest method result after searching best param: \\n {classification_report(y_test, rf_pred)}\")"
      ],
      "metadata": {
        "colab": {
          "base_uri": "https://localhost:8080/"
        },
        "id": "Q38ahI2iQIvo",
        "outputId": "a9a4cd2f-8852-4ed0-c5a9-06c9946dafc8"
      },
      "execution_count": 57,
      "outputs": [
        {
          "output_type": "stream",
          "name": "stdout",
          "text": [
            "RandomForest method result after searching best param: \n",
            "               precision    recall  f1-score   support\n",
            "\n",
            "        idle       1.00      1.00      1.00       205\n",
            "     running       1.00      1.00      1.00       700\n",
            "      stairs       1.00      1.00      1.00        28\n",
            "     walking       1.00      1.00      1.00       360\n",
            "\n",
            "    accuracy                           1.00      1293\n",
            "   macro avg       1.00      1.00      1.00      1293\n",
            "weighted avg       1.00      1.00      1.00      1293\n",
            "\n"
          ]
        }
      ]
    },
    {
      "cell_type": "markdown",
      "source": [
        "Як бачимо після покращення параметрів обидва методи показують відмінний результат"
      ],
      "metadata": {
        "id": "GbrraPtRQnDE"
      }
    }
  ],
  "metadata": {
    "colab": {
      "provenance": [],
      "authorship_tag": "ABX9TyOxE5IGLkSIIZQkB1N7vtEL",
      "include_colab_link": true
    },
    "kernelspec": {
      "display_name": "Python 3",
      "name": "python3"
    },
    "language_info": {
      "name": "python"
    }
  },
  "nbformat": 4,
  "nbformat_minor": 0
}