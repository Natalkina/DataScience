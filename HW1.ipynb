{
  "nbformat": 4,
  "nbformat_minor": 0,
  "metadata": {
    "colab": {
      "provenance": []
    },
    "kernelspec": {
      "name": "python3",
      "display_name": "Python 3"
    },
    "language_info": {
      "name": "python"
    }
  },
  "cells": [
    {
      "cell_type": "code",
      "source": [
        "import numpy as np"
      ],
      "metadata": {
        "id": "dTekL08IvHms"
      },
      "execution_count": 2,
      "outputs": []
    },
    {
      "cell_type": "markdown",
      "source": [
        "1/ Створіть одновимірний масив (вектор) з першими 10-ма натуральними числами та виведіть його значення."
      ],
      "metadata": {
        "id": "YeTG6BDrvNqr"
      }
    },
    {
      "cell_type": "code",
      "source": [
        "a = np.arange(1, 11, 1)\n",
        "print(a)"
      ],
      "metadata": {
        "colab": {
          "base_uri": "https://localhost:8080/"
        },
        "id": "zUEpCTrVvSbj",
        "outputId": "c1339759-077a-4cee-edef-923e6ae9a5cd"
      },
      "execution_count": 4,
      "outputs": [
        {
          "output_type": "stream",
          "name": "stdout",
          "text": [
            "[ 1  2  3  4  5  6  7  8  9 10]\n"
          ]
        }
      ]
    },
    {
      "cell_type": "markdown",
      "source": [
        "2/ Створіть двовимірний масив (матрицю) розміром 3x3, заповніть його нулями та виведіть його значення.\n"
      ],
      "metadata": {
        "id": "4m_QAEfBv-pu"
      }
    },
    {
      "cell_type": "code",
      "source": [
        "b = np.zeros((3,3))\n",
        "print (b)"
      ],
      "metadata": {
        "colab": {
          "base_uri": "https://localhost:8080/"
        },
        "id": "UruJnWBLwInt",
        "outputId": "fa13ac71-4375-4993-d80a-b4363a687f22"
      },
      "execution_count": 5,
      "outputs": [
        {
          "output_type": "stream",
          "name": "stdout",
          "text": [
            "[[0. 0. 0.]\n",
            " [0. 0. 0.]\n",
            " [0. 0. 0.]]\n"
          ]
        }
      ]
    },
    {
      "cell_type": "markdown",
      "source": [
        "3/ Створіть масив розміром 5x5, заповніть його випадковими цілими числами в діапазоні від 1 до 10 та виведіть його значення."
      ],
      "metadata": {
        "id": "YLobe40twn7t"
      }
    },
    {
      "cell_type": "code",
      "source": [
        "c = np.random.randint(1,10, (5,5))\n",
        "print(c)"
      ],
      "metadata": {
        "colab": {
          "base_uri": "https://localhost:8080/"
        },
        "id": "2hMLu_CuwwkZ",
        "outputId": "ba98aaac-b575-43ed-8b6d-980a1665cbc3"
      },
      "execution_count": 7,
      "outputs": [
        {
          "output_type": "stream",
          "name": "stdout",
          "text": [
            "[[6 7 9 9 2]\n",
            " [3 8 7 1 7]\n",
            " [6 3 8 6 4]\n",
            " [7 6 8 1 5]\n",
            " [6 3 2 7 9]]\n"
          ]
        }
      ]
    },
    {
      "cell_type": "markdown",
      "source": [
        "4/ Створіть масив розміром 4x4, заповніть його випадковими дійсними числами в діапазоні від 0 до 1 та виведіть його значення."
      ],
      "metadata": {
        "id": "j0niUM3JxeAF"
      }
    },
    {
      "cell_type": "code",
      "source": [
        "d = np.random.rand(4,4)\n",
        "print(d)"
      ],
      "metadata": {
        "colab": {
          "base_uri": "https://localhost:8080/"
        },
        "id": "tGJ8pz1Axl1H",
        "outputId": "4acf16a1-44ec-4935-ca65-cad50efd7051"
      },
      "execution_count": 8,
      "outputs": [
        {
          "output_type": "stream",
          "name": "stdout",
          "text": [
            "[[0.27137292 0.77127954 0.53350462 0.67111588]\n",
            " [0.10111046 0.12931056 0.39397114 0.2051007 ]\n",
            " [0.6728756  0.44734021 0.90841316 0.22580696]\n",
            " [0.9891682  0.57386798 0.26143992 0.2900479 ]]\n"
          ]
        }
      ]
    },
    {
      "cell_type": "markdown",
      "source": [
        "5/Створіть два одновимірних масиви розміром 5, заповніть їх випадковими цілими числами в діапазоні від 1 до 10 та виконайте на них поелементні операції додавання, віднімання та множення"
      ],
      "metadata": {
        "id": "i0WpDHR5x-MN"
      }
    },
    {
      "cell_type": "code",
      "source": [
        "e = np.random.randint(1,10, (1,5))\n",
        "f = np.random.randint(1,10, (1,5))\n",
        "print(e)\n",
        "print(f)\n",
        "print(f\"поелементне додавання: {e+f}\")\n",
        "print(f\"поелементне віднімання: {e-f}\")\n",
        "print(f\"поелементне множення: {e*f}\")"
      ],
      "metadata": {
        "colab": {
          "base_uri": "https://localhost:8080/"
        },
        "id": "VaRwk9hVyE6v",
        "outputId": "3d71d9e4-3f68-482c-ee18-5d31011007f8"
      },
      "execution_count": 13,
      "outputs": [
        {
          "output_type": "stream",
          "name": "stdout",
          "text": [
            "[[1 3 4 5 9]]\n",
            "[[2 4 1 1 8]]\n",
            "поелементне додавання: [[ 3  7  5  6 17]]\n",
            "поелементне віднімання: [[-1 -1  3  4  1]]\n",
            "поелементне множення: [[ 2 12  4  5 72]]\n"
          ]
        }
      ]
    },
    {
      "cell_type": "markdown",
      "source": [
        "6/ Створіть два вектори розміром 7, заповніть довільними числами та знайдіть їх скалярний добуток."
      ],
      "metadata": {
        "id": "Pzsh8ChBz_E0"
      }
    },
    {
      "cell_type": "code",
      "source": [
        "e = np.array([1,2,3,4,5,6,7])\n",
        "f = np.array([2,1,3,4,5,1,2])\n",
        "print (e)\n",
        "print(f)\n",
        "print(f\"скалярний добуток: {np.dot(e,f)}\")"
      ],
      "metadata": {
        "colab": {
          "base_uri": "https://localhost:8080/"
        },
        "id": "vN00QeWg0IIj",
        "outputId": "1afd64ef-bd81-415f-9c59-5afc75292f83"
      },
      "execution_count": 16,
      "outputs": [
        {
          "output_type": "stream",
          "name": "stdout",
          "text": [
            "[1 2 3 4 5 6 7]\n",
            "[2 1 3 4 5 1 2]\n",
            "скалярний добуток: 74\n"
          ]
        }
      ]
    },
    {
      "cell_type": "markdown",
      "source": [
        "7/Створіть дві матриці розміром 2x2 та 2x3, заповніть їх випадковими цілими числами в діапазоні від 1 до 10 та перемножте їх між собою."
      ],
      "metadata": {
        "id": "qc0c4cR-1NkF"
      }
    },
    {
      "cell_type": "code",
      "source": [
        "A = np.random.randint(1,10, (2,2))\n",
        "B = np.random.randint(1,10, (2,3))\n",
        "print(A)\n",
        "print(B)\n",
        "print(f\"матричний добуток: {np.dot(A,B)}\")"
      ],
      "metadata": {
        "colab": {
          "base_uri": "https://localhost:8080/"
        },
        "id": "u1ygBn1L1UUf",
        "outputId": "673611a2-bef3-4a4f-c3b3-6957f8d16f02"
      },
      "execution_count": 20,
      "outputs": [
        {
          "output_type": "stream",
          "name": "stdout",
          "text": [
            "[[3 9]\n",
            " [8 9]]\n",
            "[[2 9 2]\n",
            " [4 7 4]]\n",
            "матричний добуток: [[ 42  90  42]\n",
            " [ 52 135  52]]\n"
          ]
        }
      ]
    },
    {
      "cell_type": "markdown",
      "source": [
        "8/ Створіть матрицю розміром 3x3, заповніть її випадковими цілими числами в діапазоні від 1 до 10 та знайдіть її обернену матрицю."
      ],
      "metadata": {
        "id": "11SXGnZT2O1P"
      }
    },
    {
      "cell_type": "code",
      "source": [
        "A = np.random.randint(1,10, (3,3))\n",
        "print(A)\n",
        "print(f\"обернена матриця: {np.linalg.inv(A)}\")"
      ],
      "metadata": {
        "colab": {
          "base_uri": "https://localhost:8080/"
        },
        "id": "f4fNIbld2TBt",
        "outputId": "edec76af-2f33-46fa-dad9-3278a8c6485a"
      },
      "execution_count": 24,
      "outputs": [
        {
          "output_type": "stream",
          "name": "stdout",
          "text": [
            "[[9 5 6]\n",
            " [9 9 2]\n",
            " [6 2 7]]\n",
            "обернена матриця: [[ 0.98333333 -0.38333333 -0.73333333]\n",
            " [-0.85        0.45        0.6       ]\n",
            " [-0.6         0.2         0.6       ]]\n"
          ]
        }
      ]
    },
    {
      "cell_type": "markdown",
      "source": [
        "9/ Створіть матрицю розміром 4x4, заповніть її випадковими дійсними числами в діапазоні від 0 до 1 та транспонуйте її"
      ],
      "metadata": {
        "id": "yZu0sITk3NaU"
      }
    },
    {
      "cell_type": "code",
      "source": [
        "A = np.random.random((4,4))\n",
        "print(A)\n",
        "B = A.T\n",
        "print(f\"транспонована матриця: {B}\")"
      ],
      "metadata": {
        "colab": {
          "base_uri": "https://localhost:8080/"
        },
        "id": "CgNfRe7D3Vu8",
        "outputId": "a6ef16b6-2eef-40bc-f27c-41ac44367943"
      },
      "execution_count": 27,
      "outputs": [
        {
          "output_type": "stream",
          "name": "stdout",
          "text": [
            "[[0.49107463 0.51445524 0.87974402 0.98415902]\n",
            " [0.75254164 0.87704374 0.04453121 0.89168495]\n",
            " [0.40214499 0.87981392 0.90965739 0.79924935]\n",
            " [0.58216839 0.45699448 0.11857467 0.85930065]]\n",
            "транспонована матриця: [[0.49107463 0.75254164 0.40214499 0.58216839]\n",
            " [0.51445524 0.87704374 0.87981392 0.45699448]\n",
            " [0.87974402 0.04453121 0.90965739 0.11857467]\n",
            " [0.98415902 0.89168495 0.79924935 0.85930065]]\n"
          ]
        }
      ]
    },
    {
      "cell_type": "markdown",
      "source": [
        "10/ Створіть матрицю розміром 3x4 та вектор розміром 4, заповніть їх випадковими цілими числами в діапазоні від 1 до 10 та перемножте матрицю на вектор."
      ],
      "metadata": {
        "id": "0BKSaegl4GlB"
      }
    },
    {
      "cell_type": "code",
      "source": [
        "A = np.random.randint(1,10, (3,4))\n",
        "print(A)\n",
        "B = np.random.randint(1,10, (1,4))\n",
        "print(B)\n",
        "print(f\"поелементне множення: {A*B}\")\n"
      ],
      "metadata": {
        "colab": {
          "base_uri": "https://localhost:8080/"
        },
        "id": "y1jmz7O54NjT",
        "outputId": "ed46b68e-f873-45b5-cb2b-425201d902ee"
      },
      "execution_count": 31,
      "outputs": [
        {
          "output_type": "stream",
          "name": "stdout",
          "text": [
            "[[1 8 8 2]\n",
            " [5 5 5 6]\n",
            " [5 2 8 6]]\n",
            "[[1 9 1 9]]\n",
            "поелементне множення: [[ 1 72  8 18]\n",
            " [ 5 45  5 54]\n",
            " [ 5 18  8 54]]\n"
          ]
        }
      ]
    },
    {
      "cell_type": "markdown",
      "source": [
        "11/ Створіть матрицю розміром 2x3 та вектор розміром 3, заповніть їх випадковими дійсними числами в діапазоні від 0 до 1 та перемножте матрицю на вектор."
      ],
      "metadata": {
        "id": "gJPD5E6q5R5v"
      }
    },
    {
      "cell_type": "code",
      "source": [
        "A = np.random.random((2,3))\n",
        "print(A)\n",
        "B = np.random.random((3,1))\n",
        "print(B)\n",
        "print(f\"множення: {np.dot(A,B)}\")\n"
      ],
      "metadata": {
        "colab": {
          "base_uri": "https://localhost:8080/"
        },
        "id": "vyL0NLt95XfG",
        "outputId": "37a56320-8a39-4b8e-f862-f1addc4daf5d"
      },
      "execution_count": 35,
      "outputs": [
        {
          "output_type": "stream",
          "name": "stdout",
          "text": [
            "[[0.94259883 0.90371152 0.66162931]\n",
            " [0.9591207  0.84946383 0.4406238 ]]\n",
            "[[0.04186604]\n",
            " [0.38273089]\n",
            " [0.80121943]]\n",
            "множення: [[0.91545145]\n",
            " [0.71830698]]\n"
          ]
        }
      ]
    },
    {
      "cell_type": "markdown",
      "source": [
        "12/ Створіть дві матриці розміром 2x2, заповніть їх випадковими цілими числами в діапазоні від 1 до 10 та виконайте їхнє поелементне множення."
      ],
      "metadata": {
        "id": "6SuNFFhi5t-5"
      }
    },
    {
      "cell_type": "code",
      "source": [
        "a = np.random.randint(1,10, (2,2))\n",
        "print(a)\n",
        "b = np.random.randint(1,10, (2,2))\n",
        "print(b)\n",
        "print(f\"поелементне множення: {a*b}\")\n"
      ],
      "metadata": {
        "colab": {
          "base_uri": "https://localhost:8080/"
        },
        "id": "jSNO0_Vd55F_",
        "outputId": "f4344608-9d0c-4fe4-d1f7-a958ce9ad957"
      },
      "execution_count": 36,
      "outputs": [
        {
          "output_type": "stream",
          "name": "stdout",
          "text": [
            "[[7 5]\n",
            " [6 8]]\n",
            "[[1 1]\n",
            " [7 3]]\n",
            "поелементне множення: [[ 7  5]\n",
            " [42 24]]\n"
          ]
        }
      ]
    },
    {
      "cell_type": "markdown",
      "source": [
        "13/ Створіть дві матриці розміром 2x2, заповніть їх випадковими цілими числами в діапазоні від 1 до 10 та знайдіть їх добуток."
      ],
      "metadata": {
        "id": "Z1Q4wR7P6V4B"
      }
    },
    {
      "cell_type": "code",
      "source": [
        "a = np.random.randint(1,10, (2,2))\n",
        "print(a)\n",
        "b = np.random.randint(1,10, (2,2))\n",
        "print(b)\n",
        "print(f\"добуток: {np.dot(a,b)}\")"
      ],
      "metadata": {
        "colab": {
          "base_uri": "https://localhost:8080/"
        },
        "id": "jstvJcyL6hGj",
        "outputId": "6bbbeeb4-29fa-420f-9615-22fa92cdab21"
      },
      "execution_count": 57,
      "outputs": [
        {
          "output_type": "stream",
          "name": "stdout",
          "text": [
            "[[2 5]\n",
            " [6 8]]\n",
            "[[3 8]\n",
            " [8 7]]\n",
            "добуток: [[ 46  51]\n",
            " [ 82 104]]\n"
          ]
        }
      ]
    },
    {
      "cell_type": "markdown",
      "source": [
        "14/ Створіть матрицю розміром 5x5, заповніть її випадковими цілими числами в діапазоні від 1 до 100 та знайдіть суму елементів матриці"
      ],
      "metadata": {
        "id": "vusW9C7iEByC"
      }
    },
    {
      "cell_type": "code",
      "source": [
        "a = np.random.randint(1,100, (5,5))\n",
        "print(a)\n",
        "b = a.sum()\n",
        "print(b)"
      ],
      "metadata": {
        "colab": {
          "base_uri": "https://localhost:8080/"
        },
        "id": "iA0d9ouHEHum",
        "outputId": "2fbdf1be-bd45-48aa-8b10-a33792a7aa83"
      },
      "execution_count": 56,
      "outputs": [
        {
          "output_type": "stream",
          "name": "stdout",
          "text": [
            "[[13 87 20 98 12]\n",
            " [77 24  7 26 45]\n",
            " [56 79 37 50 66]\n",
            " [63 55 16 88 31]\n",
            " [ 9 16 59 86 15]]\n",
            "1135\n"
          ]
        }
      ]
    },
    {
      "cell_type": "markdown",
      "source": [
        "15/Створіть дві матриці розміром 4x4, заповніть їх випадковими цілими числами в діапазоні від 1 до 10 та знайдіть їхню різницю"
      ],
      "metadata": {
        "id": "Qw0ccMgxFLvW"
      }
    },
    {
      "cell_type": "code",
      "source": [
        "a = np.random.randint(1,10, (4,4))\n",
        "print(a)\n",
        "b = np.random.randint(1,10, (4,4))\n",
        "print(b)\n",
        "print(f\"різниця: {(a-b)}\")"
      ],
      "metadata": {
        "colab": {
          "base_uri": "https://localhost:8080/"
        },
        "id": "ZxfO8mFBFSng",
        "outputId": "8b2a680c-844f-4bae-a81b-bb481cf5ebe8"
      },
      "execution_count": 55,
      "outputs": [
        {
          "output_type": "stream",
          "name": "stdout",
          "text": [
            "[[6 7 6 1]\n",
            " [4 3 2 1]\n",
            " [8 7 4 9]\n",
            " [4 4 8 9]]\n",
            "[[1 2 6 9]\n",
            " [9 1 6 3]\n",
            " [1 2 4 7]\n",
            " [4 9 7 2]]\n",
            "різниця: [[ 5  5  0 -8]\n",
            " [-5  2 -4 -2]\n",
            " [ 7  5  0  2]\n",
            " [ 0 -5  1  7]]\n"
          ]
        }
      ]
    },
    {
      "cell_type": "markdown",
      "source": [
        "16/ Створіть матрицю розміром 3x3, заповніть її випадковими дійсними числами в діапазоні від 0 до 1 та знайдіть вектор-стовпчик, що містить суму елементів кожного рядка матриці."
      ],
      "metadata": {
        "id": "YfON8QdJGnfn"
      }
    },
    {
      "cell_type": "code",
      "source": [
        "a = np.random.random((3,3))\n",
        "print(a)\n",
        "B = np.sum(a, 1)\n",
        "print (b)"
      ],
      "metadata": {
        "colab": {
          "base_uri": "https://localhost:8080/"
        },
        "id": "5QTNbtcRGw4V",
        "outputId": "3665ee92-4042-4f2e-8ed5-385540b78b05"
      },
      "execution_count": 54,
      "outputs": [
        {
          "output_type": "stream",
          "name": "stdout",
          "text": [
            "[[0.90343727 0.35550902 0.57047191]\n",
            " [0.87575613 0.1428745  0.8667588 ]\n",
            " [0.48088654 0.4640955  0.91345244]]\n",
            "[[1 4 0 1]\n",
            " [1 4 9 9]\n",
            " [1 4 9 4]]\n"
          ]
        }
      ]
    },
    {
      "cell_type": "markdown",
      "source": [
        "17/ Створіть матрицю розміром 3x4 з довільними цілими числами і створінь матрицю з квадратами цих чисел"
      ],
      "metadata": {
        "id": "T7BWgQLNHboD"
      }
    },
    {
      "cell_type": "code",
      "source": [
        "a = np.array([[1,2,0,1], [1,2,3,3],[1,2,3,2]])\n",
        "print(a)\n",
        "b = np.power(a,2)\n",
        "print(b)"
      ],
      "metadata": {
        "colab": {
          "base_uri": "https://localhost:8080/"
        },
        "id": "TnGYDDYGHg8M",
        "outputId": "01c1539e-61aa-4d0e-9ab3-938604490566"
      },
      "execution_count": 53,
      "outputs": [
        {
          "output_type": "stream",
          "name": "stdout",
          "text": [
            "[[1 2 0 1]\n",
            " [1 2 3 3]\n",
            " [1 2 3 2]]\n",
            "[[1 4 0 1]\n",
            " [1 4 9 9]\n",
            " [1 4 9 4]]\n"
          ]
        }
      ]
    },
    {
      "cell_type": "markdown",
      "source": [
        "18/ Створіть вектор розміром 4, заповніть його випадковими цілими числами в діапазоні від 1 до 50 та знайдіть вектор з квадратними коренями цих чисел."
      ],
      "metadata": {
        "id": "2ed8ZIlBJCc3"
      }
    },
    {
      "cell_type": "code",
      "source": [
        "a = np.random.randint(1,50, (4))\n",
        "print(a)\n",
        "b = np.sqrt(a)\n",
        "print(b)"
      ],
      "metadata": {
        "colab": {
          "base_uri": "https://localhost:8080/"
        },
        "id": "YfticueNJJUG",
        "outputId": "cb33b435-58cb-4c4c-bf07-330f1fa13853"
      },
      "execution_count": 58,
      "outputs": [
        {
          "output_type": "stream",
          "name": "stdout",
          "text": [
            "[13 12  9 19]\n",
            "[3.60555128 3.46410162 3.         4.35889894]\n"
          ]
        }
      ]
    }
  ]
}